{
 "cells": [
  {
   "cell_type": "markdown",
   "metadata": {},
   "source": [
    "1. What does one need to do to use a module?\n",
    "\n",
    "    Install the module locally and then import the module into your code.\n",
    "    \n",
    "1. Name a Module (not the DateTime Nodule) we looked at and write a line or 2 of code as an example using this module.\n",
    "\n",
    "    Random\n",
    "    ~~~\n",
    "    import random\n",
    "    a = random.range(1,11)\n",
    "    print(a)\n",
    "    ~~~\n",
    "\n",
    "1. What is a benefit of using Exception handling?\n",
    "\n",
    "    Exception handling allows you to catch errors and do something about them rather than having an error halt the whole program. \n",
    "\n",
    "1. what are the 4 components used for Python Exception Handling?\n",
    "\n",
    "    ~~~\n",
    "    try\n",
    "    except\n",
    "    else\n",
    "    finally\n",
    "    ~~~\n",
    "\n",
    "1. NumPy arrays are like what Python data type?\n",
    "\n",
    "    Sets\n",
    "\n",
    "1. What is one of the main benefits of using NumPy arrays.\n",
    "\n",
    "    More efficient processing.\n",
    "\n",
    "1. What is one of the main requirements about the 'dtype' of NumPy arrays?\n",
    "    \n",
    "    Arrays can only contain one type of data. \n",
    "\n",
    "1. Of the 10 uses of NumPy, name 2.\n",
    "\n",
    "    1. Copying and viewing arrays\n",
    "    1. Matrix operations   \n",
    "\n",
    "1. Name one of the other libraries we'll use with NumPy?\n",
    "\n",
    "    matplotlib\n",
    "\n",
    "1. What is the shape of NumPy arrays?\n",
    "\n",
    "    Shape is the number of elements in each dimension of the array, for example a 2D array with 3 rows and 2 columns would have a shape of (3,2).\n",
    "\n",
    "1. What is a Tensor?\n",
    "\n",
    "    A tensor is an array in three or more dimensions.\n",
    "\n",
    "1. Name a reason why it's better using  NumPy for Data Analysis than using a Python List?\n",
    "\n",
    "    With numpy you can reshape arrays, which lets you see data in related columns or other groups. The data has more context than if it's in a long list like an imported CSV file.\n",
    "\n",
    "1. When creating an \"empty\" array, where do the elements come from?\n",
    "\n",
    "    Elements in an empty array are assigned based on what's in memory at the location where the array is stored.\n"
   ]
  },
  {
   "cell_type": "markdown",
   "metadata": {},
   "source": [
    "# Flow Control Methods:"
   ]
  },
  {
   "cell_type": "markdown",
   "metadata": {},
   "source": [
    "##### 1. Create an if statement: if 'age' is greater than or equal to 25, print \"Renting a car is more affordable\", however if 'age' is less than 25, print \"Renting a car is very expensive.\"\n"
   ]
  },
  {
   "cell_type": "code",
   "execution_count": 2,
   "metadata": {},
   "outputs": [
    {
     "name": "stdout",
     "output_type": "stream",
     "text": [
      "Renting a car is more affordable\n"
     ]
    }
   ],
   "source": [
    "age = 30\n",
    "if age >= 25:\n",
    "    print(\"Renting a car is more affordable\")\n",
    "else:\n",
    "    print(\"Renting a car is very expensive\")"
   ]
  },
  {
   "cell_type": "markdown",
   "metadata": {},
   "source": [
    "##### 2. Create and chain an if-else  statement: if 'age' is greater than or equal to 25, print \"Renting a car is more affordable.\" If 'age' is less than 25 but greater than or equal to 18, print \"Renting a car is very expensive.\" Finally, if age is less than 18, print \"You cannot legally rent a car.\"\n"
   ]
  },
  {
   "cell_type": "code",
   "execution_count": 5,
   "metadata": {},
   "outputs": [
    {
     "name": "stdout",
     "output_type": "stream",
     "text": [
      "Renting a car is very expensive\n"
     ]
    }
   ],
   "source": [
    "age = 19\n",
    "if age >= 25:\n",
    "    print(\"Renting a car is more affordable\")\n",
    "elif age >=18:\n",
    "    print(\"Renting a car is very expensive\")\n",
    "else:\n",
    "    print(\"You cannot legally rent a car.\")"
   ]
  },
  {
   "cell_type": "markdown",
   "metadata": {},
   "source": [
    "##### 3. Loop over the following string to (1) count all the characters in the string and (2) print out all the vowels -- \"The quick brown fox jumps over the lazy dog\"\n"
   ]
  },
  {
   "cell_type": "code",
   "execution_count": 20,
   "metadata": {},
   "outputs": [
    {
     "name": "stdout",
     "output_type": "stream",
     "text": [
      "This string has 43 characters.\n",
      "euioouoeeao"
     ]
    }
   ],
   "source": [
    "string = \"The quick brown fox jumps over the lazy dog\"\n",
    "print(\"This string has\", len(string), \"characters.\")\n",
    "for char in string:\n",
    "    if char == \"a\" or char == \"e\" or char == \"i\" or char == \"o\" or char == \"u\":\n",
    "        print(char, end='')"
   ]
  },
  {
   "cell_type": "markdown",
   "metadata": {},
   "source": [
    "##### 4. Write a nested loop that prints out every piece of clothing from the `couture` list, in every fashionable color from the `panettone` set: couture = [\"trousers\", \"blouse\", \"bandana\", \"cumber band\", \"blazer\", \"vest\", \"french beret\", \"scarf\", \"stole\"] and panettone = {\"cerise\", \"fuchsia\", \"aqua\", \"maple\", \"auburn\", \"burnt sienna\", \"gunmetal blue\", \"Dark Sapphire\"}\n"
   ]
  },
  {
   "cell_type": "code",
   "execution_count": null,
   "metadata": {},
   "outputs": [],
   "source": [
    "couture = [\"trousers\", \"blouse\", \"bandana\", \"cummerbund\", \"blazer\", \"vest\", \"french beret\", \"scarf\", \"stole\"]\n",
    "#panettone is a type of cake, I think = pantone is the color company\n",
    "pantone = [\"cerise\", \"fuchsia\", \"aqua\", \"maple\", \"auburn\", \"burnt sienna\", \"gunmetal blue\", \"Dark Sapphire\"]\n",
    "for clothing in couture:\n",
    "    for color in pantone:\n",
    "        print (color, clothing)"
   ]
  },
  {
   "cell_type": "markdown",
   "metadata": {},
   "source": [
    "##### 5. Use range as a loop to calculate the sum of all the numbers from 1 to 100\n"
   ]
  },
  {
   "cell_type": "code",
   "execution_count": 22,
   "metadata": {},
   "outputs": [
    {
     "name": "stdout",
     "output_type": "stream",
     "text": [
      "5050\n"
     ]
    }
   ],
   "source": [
    "sum = 0\n",
    "for num in range(1,101):\n",
    "    sum = sum + num\n",
    "print(sum)"
   ]
  },
  {
   "cell_type": "markdown",
   "metadata": {},
   "source": [
    "##### 6. Print the second item in this fruits list.\n",
    "[\"apple\", \"banana\", \"cherry\"]"
   ]
  },
  {
   "cell_type": "code",
   "execution_count": 1,
   "metadata": {},
   "outputs": [
    {
     "name": "stdout",
     "output_type": "stream",
     "text": [
      "banana\n"
     ]
    }
   ],
   "source": [
    "fruits = [\"apple\", \"banana\", \"cherry\"]\n",
    "print(fruits[1])"
   ]
  },
  {
   "cell_type": "markdown",
   "metadata": {},
   "source": [
    "##### 7. Change the value from \"apple\" to \"kiwi\", in the fruits list.\n",
    "  [\"apple\", \"banana\", \"cherry\"]"
   ]
  },
  {
   "cell_type": "code",
   "execution_count": 3,
   "metadata": {},
   "outputs": [
    {
     "name": "stdout",
     "output_type": "stream",
     "text": [
      "['kiwi', 'banana', 'cherry']\n"
     ]
    }
   ],
   "source": [
    "fruits[0] = \"kiwi\"\n",
    "print(fruits)"
   ]
  },
  {
   "cell_type": "markdown",
   "metadata": {},
   "source": [
    "##### 8. Use the append method to add \"orange\" to the fruits list.\n",
    "   [\"apple\", \"banana\", \"cherry\"]"
   ]
  },
  {
   "cell_type": "code",
   "execution_count": 7,
   "metadata": {},
   "outputs": [
    {
     "name": "stdout",
     "output_type": "stream",
     "text": [
      "['apple', 'banana', 'cherry', 'orange']\n"
     ]
    }
   ],
   "source": [
    "fruits = [\"apple\", \"banana\", \"cherry\"]\n",
    "fruits.append(\"orange\")\n",
    "print(fruits)"
   ]
  },
  {
   "cell_type": "markdown",
   "metadata": {},
   "source": [
    "##### 9. Use the insert method to add \"lemon\" as the second item in the fruits list.\n",
    "[\"apple\", \"banana\", \"cherry\"]\n"
   ]
  },
  {
   "cell_type": "code",
   "execution_count": 8,
   "metadata": {},
   "outputs": [
    {
     "name": "stdout",
     "output_type": "stream",
     "text": [
      "['apple', 'lemon', 'banana', 'cherry']\n"
     ]
    }
   ],
   "source": [
    "fruits = [\"apple\", \"banana\", \"cherry\"]\n",
    "fruits.insert(1, \"lemon\")\n",
    "print(fruits)"
   ]
  },
  {
   "cell_type": "markdown",
   "metadata": {},
   "source": [
    "##### 10. Use the remove method to remove \"banana\" from the fruits list.\n",
    "[\"apple\", \"banana\", \"cherry\"]"
   ]
  },
  {
   "cell_type": "code",
   "execution_count": 9,
   "metadata": {},
   "outputs": [
    {
     "name": "stdout",
     "output_type": "stream",
     "text": [
      "['apple', 'cherry']\n"
     ]
    }
   ],
   "source": [
    "fruits = [\"apple\", \"banana\", \"cherry\"]\n",
    "fruits.remove(\"banana\")\n",
    "print(fruits)"
   ]
  },
  {
   "cell_type": "markdown",
   "metadata": {},
   "source": [
    "##### 11. Use negative indexing to print the 3rd and 2nd to last items in the list.\n",
    " [\"apple\", \"banana\", \"cherry\", \"orange\", \"kiwi\", \"melon\", \"mango\"]"
   ]
  },
  {
   "cell_type": "code",
   "execution_count": 10,
   "metadata": {},
   "outputs": [
    {
     "name": "stdout",
     "output_type": "stream",
     "text": [
      "melon\n",
      "kiwi\n"
     ]
    }
   ],
   "source": [
    "fruits2 = [\"apple\", \"banana\", \"cherry\", \"orange\", \"kiwi\", \"melon\", \"mango\"]\n",
    "print(fruits2[-2])\n",
    "print(fruits2[-3])"
   ]
  },
  {
   "cell_type": "markdown",
   "metadata": {},
   "source": [
    "##### 12. Use a range of indexes to print the third, fourth, and fifth item in the list.\n",
    "[\"apple\", \"banana\", \"cherry\", \"orange\", \"kiwi\", \"melon\", \"mango\"]"
   ]
  },
  {
   "cell_type": "code",
   "execution_count": 11,
   "metadata": {},
   "outputs": [
    {
     "name": "stdout",
     "output_type": "stream",
     "text": [
      "['cherry', 'orange', 'kiwi']\n"
     ]
    }
   ],
   "source": [
    "fruits2 = [\"apple\", \"banana\", \"cherry\", \"orange\", \"kiwi\", \"melon\", \"mango\"]\n",
    "print(fruits2[2:5])"
   ]
  },
  {
   "cell_type": "markdown",
   "metadata": {},
   "source": [
    "##### 13. Use the correct syntax to print the number of items in the list.\n",
    "[\"apple\", \"banana\", \"cherry\", \"orange\", \"kiwi\", \"melon\", \"mango\"]"
   ]
  },
  {
   "cell_type": "code",
   "execution_count": 12,
   "metadata": {},
   "outputs": [
    {
     "name": "stdout",
     "output_type": "stream",
     "text": [
      "7\n"
     ]
    }
   ],
   "source": [
    "fruits2 = [\"apple\", \"banana\", \"cherry\", \"orange\", \"kiwi\", \"melon\", \"mango\"]\n",
    "print(len(fruits2))"
   ]
  },
  {
   "cell_type": "markdown",
   "metadata": {},
   "source": [
    "##### 14. Use the correct syntax to sort this list in reverse order\n",
    "[\"apple\", \"banana\", \"cherry\", \"orange\", \"kiwi\", \"melon\", \"mango\"]"
   ]
  },
  {
   "cell_type": "code",
   "execution_count": 14,
   "metadata": {},
   "outputs": [
    {
     "name": "stdout",
     "output_type": "stream",
     "text": [
      "['orange', 'melon', 'mango', 'kiwi', 'cherry', 'banana', 'apple']\n"
     ]
    }
   ],
   "source": [
    "fruits2 = [\"apple\", \"banana\", \"cherry\", \"orange\", \"kiwi\", \"melon\", \"mango\"]\n",
    "fruits2.sort(reverse=True)\n",
    "print(fruits2)"
   ]
  },
  {
   "cell_type": "markdown",
   "metadata": {},
   "source": [
    "##### 15. Use the DateTime module to get Current Date and Time, and save it to a variable. Then extract just the Full month name form that variable.\n"
   ]
  },
  {
   "cell_type": "code",
   "execution_count": 18,
   "metadata": {},
   "outputs": [
    {
     "name": "stdout",
     "output_type": "stream",
     "text": [
      "October\n"
     ]
    }
   ],
   "source": [
    "import datetime as dt\n",
    "date = dt.datetime.now()\n",
    "print(date.strftime(\"%B\"))"
   ]
  },
  {
   "cell_type": "markdown",
   "metadata": {},
   "source": [
    "##### 16. Write a simple function that takes 2 parameters -- a  first name and a day name.\n",
    "- Set a default value for the day name of Sunday.\n",
    "- Have the function print out a greeting -- using the parameters -- that says something like \"Hi first-name! Happy day-name!\". Remember to use the variables in the greeting to replace first-name and day-name.  \n",
    "- Invoke this function with 2 variables.\n",
    "- Invoke this function with 1 variable only."
   ]
  },
  {
   "cell_type": "code",
   "execution_count": 24,
   "metadata": {},
   "outputs": [
    {
     "name": "stdout",
     "output_type": "stream",
     "text": [
      "Hi, Kimberly ! Happy Thursday !\n",
      "Hi, David ! Happy Sunday !\n"
     ]
    }
   ],
   "source": [
    "def greeting( name, day = \"Sunday\"):\n",
    "    print(\"Hi,\", name,\"! Happy\", day,\"!\")\n",
    "greeting(\"Kimberly\", \"Thursday\")\n",
    "greeting(\"David\")"
   ]
  },
  {
   "cell_type": "markdown",
   "metadata": {},
   "source": [
    "##### 17. Write a block of code to handle one of the most common Python exception errors. Select one of the common errors from the curriculum section on Python Exception handling. Have your code example uses the `try`,`except`, `else`, and `finally` components.\n"
   ]
  },
  {
   "cell_type": "code",
   "execution_count": 61,
   "metadata": {},
   "outputs": [
    {
     "name": "stdout",
     "output_type": "stream",
     "text": [
      "Sorry, there aren't that many fruits on the list!\n",
      "Thanks for searching the fruit list!\n"
     ]
    }
   ],
   "source": [
    "fruits2 = [\"apple\", \"banana\", \"cherry\", \"orange\", \"kiwi\", \"melon\", \"mango\"]\n",
    "try:\n",
    "    print(fruits2[7])\n",
    "except IndexError:\n",
    "    print(\"Sorry, there aren't that many fruits on the list!\")\n",
    "else:\n",
    "    print(\"That is a valid fruit request\")\n",
    "finally: \n",
    "    print(\"Thanks for searching the fruit list!\")"
   ]
  }
 ],
 "metadata": {
  "kernelspec": {
   "display_name": "Python 3",
   "language": "python",
   "name": "python3"
  },
  "language_info": {
   "codemirror_mode": {
    "name": "ipython",
    "version": 3
   },
   "file_extension": ".py",
   "mimetype": "text/x-python",
   "name": "python",
   "nbconvert_exporter": "python",
   "pygments_lexer": "ipython3",
   "version": "3.12.6"
  }
 },
 "nbformat": 4,
 "nbformat_minor": 2
}
