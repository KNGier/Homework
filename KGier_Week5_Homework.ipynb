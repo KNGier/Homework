{
 "cells": [
  {
   "cell_type": "markdown",
   "metadata": {},
   "source": [
    "##### 1. What does Pandas stand for?\n",
    "Python data analysis\n",
    "\n",
    "##### 2. What are the 2 collections used in Pandas?\n",
    "series, dataframes\n",
    "\n",
    "##### 3. Name 4 things Pandas can do for us.\n",
    "data cleaning, data fill, visualization, statistical analysis \n",
    "\n",
    "##### 4. To permanently sort a DataFrame, which keyword should one use with the `df.sort()` method?\n",
    "inplace=True\n",
    "\n",
    "##### 5. What is a CSV?\n",
    "file with comma separated values\n",
    "\n",
    "##### 6. When cleaning data what values do we not like in our data?\n",
    "null values, values out of range (input errors)"
   ]
  },
  {
   "cell_type": "markdown",
   "metadata": {},
   "source": [
    "##### 7. Import NumPy, use one of the NumPy methods and create an array with a shape of (2, 3, 2). You can use the reshape method -- `.reshape()`"
   ]
  },
  {
   "cell_type": "code",
   "execution_count": 13,
   "metadata": {},
   "outputs": [],
   "source": [
    "import numpy as np\n",
    "array7 = np.array([[1, 2], [3,4], [5, 6], [7,8], [9, 10], [11,12]])\n",
    "array7a = array7.reshape(2,3,2)"
   ]
  },
  {
   "cell_type": "markdown",
   "metadata": {},
   "source": [
    "##### 8. Use NumPy `.linspace()` to create an array with 6 linearly spaced values between 0 and 20"
   ]
  },
  {
   "cell_type": "code",
   "execution_count": 15,
   "metadata": {},
   "outputs": [
    {
     "name": "stdout",
     "output_type": "stream",
     "text": [
      "[ 0.  4.  8. 12. 16. 20.]\n"
     ]
    }
   ],
   "source": [
    "array8 = np.linspace(0,20, num=6)\n",
    "print(array8)"
   ]
  },
  {
   "cell_type": "markdown",
   "metadata": {},
   "source": [
    "##### 9. Make a Deep Copy of the above array"
   ]
  },
  {
   "cell_type": "code",
   "execution_count": 19,
   "metadata": {},
   "outputs": [
    {
     "name": "stdout",
     "output_type": "stream",
     "text": [
      "[ 0.  4.  8. 12. 16. 20.]\n"
     ]
    }
   ],
   "source": [
    "import copy\n",
    "array9 = copy.deepcopy(array8)\n",
    "print(array9)"
   ]
  },
  {
   "cell_type": "markdown",
   "metadata": {},
   "source": [
    "##### 10. Concatenate these 3 arrays into a new array named 'newArray'...\n",
    "    ```python\n",
    "            ([[25, 16]])\n",
    "            ([[11, 2], [13, 4]])\n",
    "            ([[7, 81], [5, 6], [11, 12]])\n",
    "    ```"
   ]
  },
  {
   "cell_type": "code",
   "execution_count": 20,
   "metadata": {},
   "outputs": [
    {
     "name": "stdout",
     "output_type": "stream",
     "text": [
      "[[25 16]\n",
      " [11  2]\n",
      " [13  4]\n",
      " [ 7 81]\n",
      " [ 5  6]\n",
      " [11 12]]\n"
     ]
    }
   ],
   "source": [
    "array10a = np.array([[25, 16]])\n",
    "array10b = np.array([[11, 2], [13, 4]])\n",
    "array10c = np.array([[7, 81], [5, 6], [11, 12]])\n",
    "newArray = np.concatenate((array10a, array10b, array10c))\n",
    "print(newArray)"
   ]
  },
  {
   "cell_type": "markdown",
   "metadata": {},
   "source": [
    "##### 11. Sort 'newArray' in order into 'sortedArray'"
   ]
  },
  {
   "cell_type": "code",
   "execution_count": 22,
   "metadata": {},
   "outputs": [
    {
     "name": "stdout",
     "output_type": "stream",
     "text": [
      "[[16 25]\n",
      " [ 2 11]\n",
      " [ 4 13]\n",
      " [ 7 81]\n",
      " [ 5  6]\n",
      " [11 12]]\n"
     ]
    }
   ],
   "source": [
    "sortedArray = np.sort(newArray)\n",
    "print(sortedArray)"
   ]
  },
  {
   "cell_type": "markdown",
   "metadata": {},
   "source": [
    "##### Question 12 was removed by instructors."
   ]
  },
  {
   "cell_type": "markdown",
   "metadata": {},
   "source": [
    "##### 13. Combined and sort the following arrays into one called 'comboArray' ...\n",
    "\n",
    "    ```python\n",
    "        one = ([10, 11, 12, 13, 14, 15, 16, 17])\n",
    "        two = ([20, 21, 22, 23, 24, 25, 26, 27])\n",
    "        three = ([ 0, 1, 2, 3, 4, 5, 6, 7])"
   ]
  },
  {
   "cell_type": "code",
   "execution_count": 25,
   "metadata": {},
   "outputs": [
    {
     "name": "stdout",
     "output_type": "stream",
     "text": [
      "[ 0  1  2  3  4  5  6  7 10 11 12 13 14 15 16 17 20 21 22 23 24 25 26 27]\n"
     ]
    }
   ],
   "source": [
    "array13a = np.array([10, 11, 12, 13, 14, 15, 16, 17])\n",
    "array13b = np.array([20, 21, 22, 23, 24, 25, 26, 27])\n",
    "array13c = np.array([0, 1, 2, 3, 4, 5, 6, 7])\n",
    "comboArray = np.sort(np.concatenate((array13a, array13b, array13c)))\n",
    "print(comboArray)"
   ]
  },
  {
   "cell_type": "markdown",
   "metadata": {},
   "source": [
    "##### 14. Take 'comboArray' and perform the following slicing activities:\n",
    "    - print sec1 - the 2nd element\n",
    "    - print sec2 - all elements from the 3rd element to the last\n",
    "    - print sec3 - all elements from the 4th to the 14th elements\n",
    "    - print sec4 - the last 6 elements\n",
    "    - print sec5 - all element from #0 up to and including #15, using the negative number method, i.e. taking a section from the end.\n",
    "    - print sec6 - from #20 every even element to the end\n",
    "    - print sec7 - from the last element moving forward, every 5th element."
   ]
  },
  {
   "cell_type": "code",
   "execution_count": 41,
   "metadata": {},
   "outputs": [
    {
     "name": "stdout",
     "output_type": "stream",
     "text": [
      "The 2nd element: 1\n",
      "All elements from the 3rd to the last: [ 2  3  4  5  6  7 10 11 12 13 14 15 16 17 20 21 22 23 24 25 26 27]\n",
      "All elements from the 4th to the 14th: [ 3  4  5  6  7 10 11 12 13 14 15]\n",
      "The last 6 elements: [22 23 24 25 26 27]\n",
      "All the elements from #0 up to and including #15: [ 0  1  2  3  4  5  6  7 10 11 12 13 14 15]\n",
      "Every even element from #20 to the end: [20 22 24 26]\n",
      "From the last element moving forward, every 5th: [ 0  5 12 17 24]\n"
     ]
    }
   ],
   "source": [
    "print(\"The 2nd element:\", comboArray[1])\n",
    "print(\"All elements from the 3rd to the last:\", comboArray[2:])\n",
    "print(\"All elements from the 4th to the 14th:\", comboArray[3:14])\n",
    "print(\"The last 6 elements:\", comboArray[-6:])\n",
    "print(\"All the elements from #0 up to and including #15:\", comboArray[:-10])\n",
    "print(\"Every even element from #20 to the end:\", comboArray[-8::2])\n",
    "print(\"From the last element moving forward, every 5th:\", comboArray[0:-1:5])"
   ]
  },
  {
   "cell_type": "markdown",
   "metadata": {},
   "source": [
    "##### 15. Using `Series`, create a `DataFrame` that looks like this:\n",
    "\n",
    "    | Ingredients | Quantity | Unit |\n",
    "    |----|----|----|\n",
    "    | Flour | 4 | cups |\n",
    "    | Milk | 1 | cup |\n",
    "    | Eggs | 2 | large |\n",
    "    | Spam | 1 | can |\n",
    "\n",
    "    Name: Dinner, dtype: object"
   ]
  },
  {
   "cell_type": "code",
   "execution_count": 5,
   "metadata": {},
   "outputs": [
    {
     "name": "stdout",
     "output_type": "stream",
     "text": [
      "  Ingredients Quantity   Unit\n",
      "0        ----     ----   ----\n",
      "1       Flour        4   cups\n",
      "2        Milk        1    cup\n",
      "3        Eggs        2  large\n",
      "4        Spam        1    can\n"
     ]
    }
   ],
   "source": [
    "import pandas as pd\n",
    "ingredients = pd.Series([\"----\", \"Flour\", \"Milk\", \"Eggs\", \"Spam\"], name='Ingredients')\n",
    "quantity = pd.Series([\"----\", 4, 1, 2, 1], name='Quantity')\n",
    "unit = pd.Series([\"----\", \"cups\", \"cup\", \"large\", \"can\"], name='Unit')\n",
    "\n",
    "Dinner = pd.DataFrame(ingredients).join(quantity)\n",
    "Dinner = pd.DataFrame(Dinner).join(unit)\n",
    "print(Dinner)"
   ]
  },
  {
   "cell_type": "markdown",
   "metadata": {},
   "source": [
    "##### 16. Take this data and create a DataFrame named studentData\n",
    "    ```Python\n",
    "        {'Name': ['Jai', 'janusha', 'Gaurav', 'Anuj'],\n",
    "            'Height': [5.1, 6.2, 5.1, 5.2],\n",
    "            'Qualification': ['Msc', 'MA', 'Msc', 'Msc'],\n",
    "            'address': ['Delhi', 'Doha', 'Chennai', 'Dakhar'],\n",
    "            'Age': [21, 23, 24, 21],\n",
    "            'Pets': ['Dog', 'Bunny', 'Chinchilla', 'Parrot'],\n",
    "            'sport': ['Darts', 'Basketball', 'PaddleBoarding', 'Cricket']\n",
    "        }\n",
    "    ```"
   ]
  },
  {
   "cell_type": "code",
   "execution_count": 7,
   "metadata": {},
   "outputs": [
    {
     "name": "stdout",
     "output_type": "stream",
     "text": [
      "      Name  Height Qualification  Address        Pets           Sport\n",
      "0      Jai     5.1           Msc    Delhi         Dog           Darts\n",
      "1  Janusha     6.2            MA     Doha       Bunny      Basketball\n",
      "2   Gauray     5.1           Msc  Chennai  Chinchilla  Paddleboarding\n",
      "3     Anuj     5.2           Msc    Dakar      Parrot         Cricket\n"
     ]
    }
   ],
   "source": [
    "import pandas as pd\n",
    "name = pd.Series(['Jai', 'Janusha', 'Gauray', 'Anuj'], name='Name')\n",
    "height = pd.Series([5.1, 6.2, 5.1, 5.2], name='Height')\n",
    "qual = pd.Series(['Msc', 'MA', 'Msc', 'Msc'], name='Qualification')\n",
    "address = pd.Series(['Delhi', 'Doha', 'Chennai', 'Dakar'], name='Address')\n",
    "pet = pd.Series(['Dog', 'Bunny', 'Chinchilla', 'Parrot'], name='Pets')\n",
    "sport = pd.Series(['Darts', 'Basketball', 'Paddleboarding', \"Cricket\"], name='Sport')\n",
    "\n",
    "studentData = pd.concat([name, height, qual, address, pet, sport], axis=1)\n",
    "print(studentData)"
   ]
  },
  {
   "cell_type": "markdown",
   "metadata": {},
   "source": [
    "##### 17. Add a new column to the DataFrame with the following deserts:\n",
    "        [\"ice cream\", \"Cashew Fudge\", \"waffels\", \"Carrot Halwa\"]"
   ]
  },
  {
   "cell_type": "code",
   "execution_count": 8,
   "metadata": {},
   "outputs": [
    {
     "name": "stdout",
     "output_type": "stream",
     "text": [
      "      Name  Height Qualification  Address        Pets           Sport  \\\n",
      "0      Jai     5.1           Msc    Delhi         Dog           Darts   \n",
      "1  Janusha     6.2            MA     Doha       Bunny      Basketball   \n",
      "2   Gauray     5.1           Msc  Chennai  Chinchilla  Paddleboarding   \n",
      "3     Anuj     5.2           Msc    Dakar      Parrot         Cricket   \n",
      "\n",
      "        Dessert  \n",
      "0     Ice Cream  \n",
      "1  Cashew Fudge  \n",
      "2       Waffles  \n",
      "3  Carrot Halwa  \n"
     ]
    }
   ],
   "source": [
    "dessert = pd.Series(['Ice Cream', 'Cashew Fudge', 'Waffles', 'Carrot Halwa'], name='Dessert')\n",
    "studentData = pd.DataFrame(studentData).join(dessert)\n",
    "\n",
    "print(studentData)"
   ]
  },
  {
   "cell_type": "markdown",
   "metadata": {},
   "source": [
    "##### 18. Sort the 'studentData' DataFrame in Ascending order -- Sorting by column 'Name' and then \"address\""
   ]
  },
  {
   "cell_type": "code",
   "execution_count": 9,
   "metadata": {},
   "outputs": [
    {
     "name": "stdout",
     "output_type": "stream",
     "text": [
      "      Name  Height Qualification  Address        Pets           Sport  \\\n",
      "3     Anuj     5.2           Msc    Dakar      Parrot         Cricket   \n",
      "2   Gauray     5.1           Msc  Chennai  Chinchilla  Paddleboarding   \n",
      "0      Jai     5.1           Msc    Delhi         Dog           Darts   \n",
      "1  Janusha     6.2            MA     Doha       Bunny      Basketball   \n",
      "\n",
      "        Dessert  \n",
      "3  Carrot Halwa  \n",
      "2       Waffles  \n",
      "0     Ice Cream  \n",
      "1  Cashew Fudge  \n"
     ]
    }
   ],
   "source": [
    "studentData.sort_values(by = ['Name', 'Address'], inplace=True)\n",
    "print(studentData)"
   ]
  },
  {
   "cell_type": "markdown",
   "metadata": {},
   "source": [
    "##### 19. Save this `DataFrame` here below to disc as a `.CSV` file with the name `cows_and_goats.csv`:\n",
    "\n",
    "    ```python\n",
    "        df = pd.DataFrame({'Cows': [12, 20], 'Goats': [22, 19]}, index=['Year 1', 'Year 2'])\n",
    "    ```"
   ]
  },
  {
   "cell_type": "code",
   "execution_count": 12,
   "metadata": {},
   "outputs": [],
   "source": [
    "df = pd.DataFrame({'Cows': [12,20], 'Goats': [22,19]}, index=['Year 1', 'Year 2'])\n",
    "df.to_csv('cows_and_goats.csv')"
   ]
  },
  {
   "cell_type": "markdown",
   "metadata": {},
   "source": [
    "##### 20. (A) Using Pandas, make your own .CSV file with data on vegetables and save it. (B) Using Pandas, make a change to your CSV file, and save a copy with a different name."
   ]
  },
  {
   "cell_type": "code",
   "execution_count": 25,
   "metadata": {},
   "outputs": [],
   "source": [
    "vegName = pd.Series(['zucchini', 'eggplant', 'bell pepper', 'broccoli', 'kale'], name='Vegetable')\n",
    "sun = pd.Series(['Full Sun', 'Full Sun', \"Full Sun\", \"Part Sun\", \"Shade\"], name='Sunlight Needs')\n",
    "harvest = pd.Series(['August', 'June and July', 'July and August', 'September', 'October'], name='Harvest Time')\n",
    "nightshade = pd.Series([False, True, True, False, False], name='Nightshade Family')\n",
    "\n",
    "vegData = pd.concat([vegName, sun, harvest, nightshade], axis=1)\n",
    "vegData.to_csv('vegetables.csv')\n",
    "\n",
    "tomato = pd.Series(['tomato', 'Part Sun', 'June and July', True], index=['Vegetable', 'Sunlight Needs', 'Harvest Time', 'Nightshade Family'])\n",
    "vegData2 = pd.concat([vegData, tomato.to_frame().T], ignore_index=True)\n",
    "vegData2.to_csv('vegetables2.csv')"
   ]
  }
 ],
 "metadata": {
  "kernelspec": {
   "display_name": "Python 3",
   "language": "python",
   "name": "python3"
  },
  "language_info": {
   "codemirror_mode": {
    "name": "ipython",
    "version": 3
   },
   "file_extension": ".py",
   "mimetype": "text/x-python",
   "name": "python",
   "nbconvert_exporter": "python",
   "pygments_lexer": "ipython3",
   "version": "3.12.6"
  }
 },
 "nbformat": 4,
 "nbformat_minor": 2
}
